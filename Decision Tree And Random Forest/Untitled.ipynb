{
 "cells": [
  {
   "cell_type": "code",
   "execution_count": 1,
   "id": "0c02a474",
   "metadata": {},
   "outputs": [],
   "source": [
    "from io import StringIO"
   ]
  },
  {
   "cell_type": "code",
   "execution_count": 2,
   "id": "e99a3808",
   "metadata": {},
   "outputs": [],
   "source": [
    "str = 'I am first'"
   ]
  },
  {
   "cell_type": "code",
   "execution_count": 3,
   "id": "3680faa4",
   "metadata": {},
   "outputs": [],
   "source": [
    "file = StringIO(str)"
   ]
  },
  {
   "cell_type": "code",
   "execution_count": 4,
   "id": "b43d3050",
   "metadata": {},
   "outputs": [
    {
     "data": {
      "text/plain": [
       "'I am first'"
      ]
     },
     "execution_count": 4,
     "metadata": {},
     "output_type": "execute_result"
    }
   ],
   "source": [
    "file.read()"
   ]
  },
  {
   "cell_type": "code",
   "execution_count": null,
   "id": "aa8cc100",
   "metadata": {},
   "outputs": [],
   "source": [
    "file.wri"
   ]
  }
 ],
 "metadata": {
  "kernelspec": {
   "display_name": "Python 3 (ipykernel)",
   "language": "python",
   "name": "python3"
  },
  "language_info": {
   "codemirror_mode": {
    "name": "ipython",
    "version": 3
   },
   "file_extension": ".py",
   "mimetype": "text/x-python",
   "name": "python",
   "nbconvert_exporter": "python",
   "pygments_lexer": "ipython3",
   "version": "3.11.3"
  }
 },
 "nbformat": 4,
 "nbformat_minor": 5
}
